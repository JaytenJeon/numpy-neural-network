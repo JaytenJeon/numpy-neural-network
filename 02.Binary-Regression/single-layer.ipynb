{
  "nbformat": 4,
  "nbformat_minor": 0,
  "metadata": {
    "colab": {
      "name": "binary-regression.ipynb",
      "version": "0.3.2",
      "provenance": []
    },
    "kernelspec": {
      "name": "python3",
      "display_name": "Python 3"
    }
  },
  "cells": [
    {
      "metadata": {
        "id": "ZwERATQil_xP",
        "colab_type": "code",
        "colab": {}
      },
      "cell_type": "code",
      "source": [
        "import numpy as np"
      ],
      "execution_count": 0,
      "outputs": []
    },
    {
      "metadata": {
        "id": "PTiBI7ck2xyq",
        "colab_type": "code",
        "colab": {}
      },
      "cell_type": "code",
      "source": [
        "def sigmoid(input):\n",
        "  return 1 / (1+np.exp(-input))\n",
        "\n",
        "\n",
        "def relu(input):\n",
        "  return input * (input > 0)\n",
        "\n",
        "\n",
        "def initialize_parameters(n_x, n_y):\n",
        "  # 편의를 위해서 seed 설정\n",
        "  np.random.seed(20181001) \n",
        "  \n",
        "  # W.shape = (n_x, n_y)\n",
        "  # b.shape = (1, n_y)\n",
        "  \n",
        "  W = np.random.randn(n_x, n_y)\n",
        "  b = np.zeros([1, n_y])\n",
        "  \n",
        "  # 편의를 위해 dictionary 사용\n",
        "  parameters = {\"W\": W,\n",
        "                \"b\": b}\n",
        "  \n",
        "  return parameters\n",
        "\n",
        "\n",
        "def forward_propagation(X, parameters, activation=\"sigmoid\"):\n",
        "  # Z.shape = Y.shape = (m, n_y) = (m, n_x) * (n_x, n_y)\n",
        "  Z = np.dot(X, parameters[\"W\"]) + parameters[\"b\"]\n",
        "  if activation == \"sigmoid\":\n",
        "    A = sigmoid(Z)\n",
        "  elif activation == \"relu\":\n",
        "    A = relu(Z)\n",
        "\n",
        "  return A\n",
        "\n",
        "\n",
        "def compute_loss(Y_hat, Y):\n",
        "  # MSE\n",
        "  return -np.sum(Y*np.log(Y_hat) + (1-Y) * np.log(1-Y_hat)) / len(Y)\n",
        "\n",
        "  \n",
        "def backward_propagation(X, Y, A):\n",
        "  # dL/dA = dL/dA * dA/dZ * dZ/dW\n",
        "  # dL/db = dL/dA * dA/dZ * dZ/db\n",
        "  # by Chain rule\n",
        "\n",
        "  dL_dZ = A - Y\n",
        "  \n",
        "  \n",
        "  dZ_dW = X\n",
        "  dZ_db = 1\n",
        "  \n",
        "  dL_dW = np.dot(dL_dZ.T, dZ_dW)\n",
        "  dL_db = np.sum(dL_dZ * dZ_db)\n",
        "  \n",
        "  grads = {\"dW\": dL_dW,\n",
        "           \"db\": dL_db}\n",
        "  return grads\n",
        "\n",
        "\n",
        "def update_parameters(parameters, grads, learning_rate):\n",
        "  parameters[\"W\"] -= learning_rate * grads[\"dW\"].T\n",
        "  parameters[\"b\"] -= learning_rate * grads[\"db\"]\n",
        "  \n",
        "  return parameters"
      ],
      "execution_count": 0,
      "outputs": []
    },
    {
      "metadata": {
        "id": "rwrj7XY7ZlkX",
        "colab_type": "code",
        "colab": {
          "base_uri": "https://localhost:8080/",
          "height": 158
        },
        "outputId": "7c9848dd-92ea-4d61-adf7-61a49cff9921"
      },
      "cell_type": "code",
      "source": [
        "# Data. X.shape = (4, 3), Y.shape = (4, 1)\n",
        "X = np.array([[1, 2], [3, 4],[2, 1],[4, 3]])\n",
        "Y = np.array([[0], [1], [0], [1] ])\n",
        "print(X)\n",
        "print(Y)"
      ],
      "execution_count": 3,
      "outputs": [
        {
          "output_type": "stream",
          "text": [
            "[[1 2]\n",
            " [3 4]\n",
            " [2 1]\n",
            " [4 3]]\n",
            "[[0]\n",
            " [1]\n",
            " [0]\n",
            " [1]]\n"
          ],
          "name": "stdout"
        }
      ]
    },
    {
      "metadata": {
        "id": "xVX550j21Quf",
        "colab_type": "code",
        "colab": {
          "base_uri": "https://localhost:8080/",
          "height": 386
        },
        "outputId": "ddb8dc49-b51f-4fdc-ba48-539250b6b761"
      },
      "cell_type": "code",
      "source": [
        "# Hyperparamerters\n",
        "num_epochs = 2000\n",
        "learning_rate = 1e-2\n",
        "\n",
        "# 1. Initialize Parameters\n",
        "parameters = initialize_parameters(X.shape[1],Y.shape[1])\n",
        "\n",
        "# 2. Loop N iteration (N: Num of epochs)\n",
        "for epoch in range(num_epochs):\n",
        "  # Forward Propagation\n",
        "  Y_hat = forward_propagation(X, parameters, \"sigmoid\")\n",
        "  \n",
        "  # Compute loss\n",
        "  loss = compute_loss(Y_hat, Y)\n",
        "  \n",
        "  # Backward Propagation\n",
        "  grads = backward_propagation(X, Y, Y_hat)\n",
        "  \n",
        "  # Update Parameters\n",
        "  parameters = update_parameters(parameters, grads, learning_rate)\n",
        "\n",
        "  # Print Loss\n",
        "  if (epoch+1) % 100 == 0 or epoch+1 == 1 :\n",
        "    print(epoch+1, loss)\n"
      ],
      "execution_count": 4,
      "outputs": [
        {
          "output_type": "stream",
          "text": [
            "1 1.5869227159398303\n",
            "100 0.581662012314877\n",
            "200 0.47549562861905287\n",
            "300 0.39976984374493846\n",
            "400 0.34331937110261607\n",
            "500 0.2996316141159108\n",
            "600 0.264868388919475\n",
            "700 0.23662596041180517\n",
            "800 0.21330256619806728\n",
            "900 0.1937781760092836\n",
            "1000 0.17724195465943854\n",
            "1100 0.1630918218077932\n",
            "1200 0.15087187497393395\n",
            "1300 0.14023133582770833\n",
            "1400 0.13089658839619606\n",
            "1500 0.12265160319807941\n",
            "1600 0.11532394033452233\n",
            "1700 0.10877456954131144\n",
            "1800 0.10289035847743302\n",
            "1900 0.09757845889039915\n",
            "2000 0.09276206266263975\n"
          ],
          "name": "stdout"
        }
      ]
    },
    {
      "metadata": {
        "id": "hMnMqzMj76Ga",
        "colab_type": "code",
        "colab": {
          "base_uri": "https://localhost:8080/",
          "height": 158
        },
        "outputId": "6552d55c-0e65-45bd-8df7-14d39f1043bb"
      },
      "cell_type": "code",
      "source": [
        "print(Y)\n",
        "print(Y_hat)"
      ],
      "execution_count": 5,
      "outputs": [
        {
          "output_type": "stream",
          "text": [
            "[[0]\n",
            " [1]\n",
            " [0]\n",
            " [1]]\n",
            "[[0.12028496]\n",
            " [0.94445093]\n",
            " [0.12098505]\n",
            " [0.94479615]]\n"
          ],
          "name": "stdout"
        }
      ]
    },
    {
      "metadata": {
        "id": "dKspazmws81S",
        "colab_type": "code",
        "colab": {}
      },
      "cell_type": "code",
      "source": [
        ""
      ],
      "execution_count": 0,
      "outputs": []
    }
  ]
}