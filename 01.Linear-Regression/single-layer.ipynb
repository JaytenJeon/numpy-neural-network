{
  "nbformat": 4,
  "nbformat_minor": 0,
  "metadata": {
    "colab": {
      "name": "numpy-single-layer-linear-regression.ipynb",
      "version": "0.3.2",
      "provenance": []
    },
    "kernelspec": {
      "name": "python3",
      "display_name": "Python 3"
    },
    "accelerator": "GPU"
  },
  "cells": [
    {
      "metadata": {
        "id": "ZwERATQil_xP",
        "colab_type": "code",
        "colab": {}
      },
      "cell_type": "code",
      "source": [
        "import numpy as np"
      ],
      "execution_count": 0,
      "outputs": []
    },
    {
      "metadata": {
        "id": "PTiBI7ck2xyq",
        "colab_type": "code",
        "colab": {}
      },
      "cell_type": "code",
      "source": [
        "def initialize_parameters(n_x, n_y):\n",
        "  # 편의를 위해서 seed 설정\n",
        "  np.random.seed(20180929) \n",
        "  \n",
        "  # W.shape = (n_x, n_y)\n",
        "  # b.shape = (1, n_y)\n",
        "  \n",
        "  W = np.random.randn(n_x, n_y)\n",
        "  b = np.zeros([1, n_y])\n",
        "  \n",
        "  # 편의를 위해 dictionary 사용\n",
        "  parameters = {\"W\": W,\n",
        "                \"b\": b}\n",
        "  \n",
        "  return parameters\n",
        "\n",
        "\n",
        "def forward_propagation(X, parameters):\n",
        "  # Z.shape = Y.shape = (m, n_y) = (m, n_x) * (n_x, n_y)\n",
        "  Z = np.dot(X, parameters[\"W\"]) + parameters[\"b\"]\n",
        "  \n",
        "  return Z\n",
        "\n",
        "\n",
        "def compute_loss(Y_hat, Y):\n",
        "  # MSE\n",
        "  return np.sum(np.square(Y_hat - Y)) / len(Y)\n",
        "\n",
        "  \n",
        "def backward_propagation(X, Y, Z):\n",
        "  # dL/dW = dL/dZ * dZ/dW\n",
        "  # dL/db = dL/dZ * dZ/db\n",
        "  # by Chain rule\n",
        "\n",
        "  dL_dZ = 2 * (Z - Y)\n",
        "  dZ_dW = X\n",
        "  dZ_db = 1\n",
        "\n",
        "  dL_dW = np.sum(dL_dZ * dZ_dW) / len(Y)\n",
        "  dL_db = np.sum(dL_dZ * dZ_db) / len(Y)\n",
        "  \n",
        "  grads = {\"dW\": dL_dW,\n",
        "           \"db\": dL_db}\n",
        "  \n",
        "  return grads\n",
        "\n",
        "\n",
        "def update_parameters(parameters, grads, learning_rate):\n",
        "  parameters[\"W\"] -= learning_rate * grads[\"dW\"]\n",
        "  parameters[\"b\"] -= learning_rate * grads[\"db\"]\n",
        "  \n",
        "  return parameters"
      ],
      "execution_count": 0,
      "outputs": []
    },
    {
      "metadata": {
        "id": "rwrj7XY7ZlkX",
        "colab_type": "code",
        "colab": {
          "base_uri": "https://localhost:8080/",
          "height": 158
        },
        "outputId": "f95c2d31-d3ce-4996-9d92-518460861a74"
      },
      "cell_type": "code",
      "source": [
        "# Data. X.shape = (4, 3), Y.shape = (4, 1)\n",
        "X = np.array([[100, 90, 95], [85, 75, 75],[100, 100, 100],[50, 40, 45]])\n",
        "Y = np.array([[95], [80], [100], [50] ])\n",
        "print(X)\n",
        "print(Y)"
      ],
      "execution_count": 5,
      "outputs": [
        {
          "output_type": "stream",
          "text": [
            "[[100  90  95]\n",
            " [ 85  75  75]\n",
            " [100 100 100]\n",
            " [ 50  40  45]]\n",
            "[[ 95]\n",
            " [ 80]\n",
            " [100]\n",
            " [ 50]]\n"
          ],
          "name": "stdout"
        }
      ]
    },
    {
      "metadata": {
        "id": "xVX550j21Quf",
        "colab_type": "code",
        "colab": {
          "base_uri": "https://localhost:8080/",
          "height": 210
        },
        "outputId": "8c3ebfa0-7067-47b3-918e-8b7e84f29f1a"
      },
      "cell_type": "code",
      "source": [
        "# Hyperparamerters\n",
        "num_epochs = 1000\n",
        "learning_rate = 1e-5\n",
        "\n",
        "# 1. Initialize Parameters\n",
        "parameters = initialize_parameters(X.shape[1],Y.shape[1])\n",
        "\n",
        "# 2. Loop N iteration (N: Num of epochs)\n",
        "for epoch in range(num_epochs):\n",
        "  # Forward Probagation\n",
        "  Y_hat = forward_propagation(X, parameters)\n",
        "  \n",
        "  # Compute loss\n",
        "  loss = compute_loss(Y_hat, Y)\n",
        "  \n",
        "  # Backward Propagation\n",
        "  grads = backward_propagation(X, Y, Y_hat)\n",
        "  \n",
        "  # Update Parameters\n",
        "  parameters = update_parameters(parameters, grads, learning_rate)\n",
        "\n",
        "  # Print Loss\n",
        "  if (epoch+1) % 100 == 0 or epoch+1 == 1 :\n",
        "    print(epoch+1, loss)\n"
      ],
      "execution_count": 3,
      "outputs": [
        {
          "output_type": "stream",
          "text": [
            "1 832.4086265719185\n",
            "100 10.447647976213009\n",
            "200 10.444988744388597\n",
            "300 10.4423302371071\n",
            "400 10.439672454171212\n",
            "500 10.437015395383437\n",
            "600 10.434359060546521\n",
            "700 10.431703449463328\n",
            "800 10.429048561936515\n",
            "900 10.426394397768963\n",
            "1000 10.423740956763622\n"
          ],
          "name": "stdout"
        }
      ]
    },
    {
      "metadata": {
        "id": "hMnMqzMj76Ga",
        "colab_type": "code",
        "colab": {
          "base_uri": "https://localhost:8080/",
          "height": 158
        },
        "outputId": "1e066419-062f-4804-bb28-c2abdf6d786a"
      },
      "cell_type": "code",
      "source": [
        "print(Y)\n",
        "print(Y_hat)"
      ],
      "execution_count": 4,
      "outputs": [
        {
          "output_type": "stream",
          "text": [
            "[[ 95]\n",
            " [ 80]\n",
            " [100]\n",
            " [ 50]]\n",
            "[[ 95.2079513 ]\n",
            " [ 80.11466579]\n",
            " [102.40686913]\n",
            " [ 44.01288443]]\n"
          ],
          "name": "stdout"
        }
      ]
    }
  ]
}